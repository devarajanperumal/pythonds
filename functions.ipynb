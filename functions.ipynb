{
 "cells": [
  {
   "cell_type": "markdown",
   "metadata": {},
   "source": [
    "## First class function"
   ]
  },
  {
   "cell_type": "markdown",
   "metadata": {},
   "source": [
    "Functions are first class citizens in Python. That means it can be assigned to a variable, passed as an argument to another function and returned from another function"
   ]
  },
  {
   "cell_type": "code",
   "execution_count": 1,
   "metadata": {},
   "outputs": [
    {
     "data": {
      "text/plain": [
       "'This is a function'"
      ]
     },
     "execution_count": 1,
     "metadata": {},
     "output_type": "execute_result"
    }
   ],
   "source": [
    "# Let's define a simple function\n",
    "def func():\n",
    "    return \"This is a function\"\n",
    "    \n",
    "# Now we can assign a name to this function\n",
    "var = func\n",
    "\n",
    "# We can call the function with the new function. Cool eh?\n",
    "var()"
   ]
  },
  {
   "cell_type": "code",
   "execution_count": 2,
   "metadata": {},
   "outputs": [
    {
     "data": {
      "text/plain": [
       "'This is a function'"
      ]
     },
     "execution_count": 2,
     "metadata": {},
     "output_type": "execute_result"
    }
   ],
   "source": [
    "# Next we define the second function that takes any function\n",
    "# and executes it.\n",
    "def func1(anyfunc):\n",
    "    return anyfunc()\n",
    "    \n",
    "# Now we can pass our first function to the second function\n",
    "func1(func)"
   ]
  },
  {
   "cell_type": "code",
   "execution_count": 3,
   "metadata": {},
   "outputs": [
    {
     "data": {
      "text/plain": [
       "'This is a returned function'"
      ]
     },
     "execution_count": 3,
     "metadata": {},
     "output_type": "execute_result"
    }
   ],
   "source": [
    "# Our third function will create a function and returns it.\n",
    "def func2():\n",
    "    def retfunc():\n",
    "        return \"This is a returned function\"\n",
    "    return retfunc\n",
    "\n",
    "# As usual we assign a name to the return\n",
    "var2 = func2()\n",
    "\n",
    "# And now we can call the returned function using the assigned name \n",
    "var2()"
   ]
  },
  {
   "cell_type": "markdown",
   "metadata": {},
   "source": [
    "## Closures\n",
    "func1 and func2 are also known as higher order function as they can be passed or return another function. Closures are based on this feature with an added advantage: the inner function remembers the outer function's variable even after the outer function has finished executing. Let's see an example."
   ]
  },
  {
   "cell_type": "code",
   "execution_count": 4,
   "metadata": {},
   "outputs": [
    {
     "data": {
      "text/plain": [
       "('Hello friend', 'Goodbye stranger')"
      ]
     },
     "execution_count": 4,
     "metadata": {},
     "output_type": "execute_result"
    }
   ],
   "source": [
    "# First, defining a function that takes an argument, then returns\n",
    "# another function\n",
    "def outerfunc(outerstr):\n",
    "    \n",
    "    def innerfunc(innerstr):\n",
    "        return f'{outerstr} {innerstr}'\n",
    "    \n",
    "    return innerfunc\n",
    "\n",
    "# Next, we call the outer function and assign the return which is\n",
    "# the inner function, to a name\n",
    "hello = outerfunc('Hello')\n",
    "goodbye = outerfunc('Goodbye')\n",
    "\n",
    "# Now, we can call the inner function\n",
    "hello('friend'), goodbye('stranger')"
   ]
  },
  {
   "cell_type": "markdown",
   "metadata": {},
   "source": [
    "## Docstring"
   ]
  },
  {
   "cell_type": "code",
   "execution_count": 5,
   "metadata": {
    "collapsed": true
   },
   "outputs": [],
   "source": [
    "def docfunc():\n",
    "    '''Demonstrate docstring'''\n",
    "    pass"
   ]
  },
  {
   "cell_type": "code",
   "execution_count": 6,
   "metadata": {},
   "outputs": [
    {
     "data": {
      "text/plain": [
       "'Demonstrate docstring'"
      ]
     },
     "execution_count": 6,
     "metadata": {},
     "output_type": "execute_result"
    }
   ],
   "source": [
    "docfunc.__doc__"
   ]
  },
  {
   "cell_type": "code",
   "execution_count": 7,
   "metadata": {},
   "outputs": [
    {
     "name": "stdout",
     "output_type": "stream",
     "text": [
      "Help on function docfunc in module __main__:\n",
      "\n",
      "docfunc()\n",
      "    Demonstrate docstring\n",
      "\n"
     ]
    }
   ],
   "source": [
    "help(docfunc)"
   ]
  },
  {
   "cell_type": "markdown",
   "metadata": {},
   "source": [
    "## Function can return multiple value"
   ]
  },
  {
   "cell_type": "code",
   "execution_count": 12,
   "metadata": {},
   "outputs": [
    {
     "data": {
      "text/plain": [
       "'aabbb'"
      ]
     },
     "execution_count": 12,
     "metadata": {},
     "output_type": "execute_result"
    }
   ],
   "source": [
    "def func(arg1, arg2):\n",
    "    return arg1,arg2\n",
    "\n",
    "a, b = func('a', 'b')\n",
    "2*a+3*b"
   ]
  },
  {
   "cell_type": "markdown",
   "metadata": {},
   "source": [
    "## Scope LEGB"
   ]
  },
  {
   "cell_type": "code",
   "execution_count": 18,
   "metadata": {},
   "outputs": [
    {
     "name": "stdout",
     "output_type": "stream",
     "text": [
      "1\n",
      "2\n",
      "2\n"
     ]
    }
   ],
   "source": [
    "globalvalue = 1\n",
    "\n",
    "def func():\n",
    "    global globalvalue\n",
    "    globalvalue = 2\n",
    "    print(globalvalue)\n",
    "    \n",
    "print(globalvalue)\n",
    "func()\n",
    "print(globalvalue)  "
   ]
  },
  {
   "cell_type": "code",
   "execution_count": 19,
   "metadata": {},
   "outputs": [
    {
     "name": "stdout",
     "output_type": "stream",
     "text": [
      "1\n",
      "2\n"
     ]
    }
   ],
   "source": [
    "def outerfunc():\n",
    "    enclvalue = 1\n",
    "    \n",
    "    def innerfunc():\n",
    "        nonlocal enclvalue\n",
    "        enclvalue = 2\n",
    "        \n",
    "    print(enclvalue)\n",
    "    innerfunc()\n",
    "    print(enclvalue)\n",
    "    \n",
    "outerfunc()"
   ]
  },
  {
   "cell_type": "markdown",
   "metadata": {},
   "source": [
    "### This does not work"
   ]
  },
  {
   "cell_type": "code",
   "execution_count": 20,
   "metadata": {},
   "outputs": [
    {
     "name": "stdout",
     "output_type": "stream",
     "text": [
      "1\n",
      "1\n"
     ]
    }
   ],
   "source": [
    "globalvalue = 1\n",
    "\n",
    "def func():\n",
    "    globalvalue = 2\n",
    "\n",
    "print(globalvalue)\n",
    "func()\n",
    "print(globalvalue)"
   ]
  },
  {
   "cell_type": "markdown",
   "metadata": {},
   "source": [
    "### This does not work either"
   ]
  },
  {
   "cell_type": "code",
   "execution_count": 21,
   "metadata": {},
   "outputs": [
    {
     "name": "stdout",
     "output_type": "stream",
     "text": [
      "1\n",
      "1\n"
     ]
    }
   ],
   "source": [
    "def outerfunc():\n",
    "    enclvalue = 1\n",
    "    \n",
    "    def innerfunc():\n",
    "        enclvalue = 2\n",
    "        \n",
    "    print(enclvalue)\n",
    "    innerfunc()\n",
    "    print(enclvalue)\n",
    "\n",
    "outerfunc()"
   ]
  },
  {
   "cell_type": "markdown",
   "metadata": {},
   "source": [
    "## Arguments"
   ]
  },
  {
   "cell_type": "code",
   "execution_count": 16,
   "metadata": {},
   "outputs": [
    {
     "name": "stdout",
     "output_type": "stream",
     "text": [
      "*args\n",
      "1\n",
      "2\n",
      "3\n",
      "**kwargs\n",
      "key:alpha, value:1\n",
      "key:beta, value:2\n",
      "key:gamma, value:3\n"
     ]
    }
   ],
   "source": [
    "# Let's define a function that takes a lot of arguments\n",
    "def argfunc(*args, **kwargs):\n",
    "    print('*args')\n",
    "    for arg in args: print(arg)\n",
    "    print('**kwargs')\n",
    "    for key, value in kwargs.items(): \n",
    "        print(f'key:{key}, value:{value}')\n",
    "\n",
    "# Call the function\n",
    "argfunc(1, 2, 3, alpha=1, beta=2, gamma=3)"
   ]
  },
  {
   "cell_type": "code",
   "execution_count": 18,
   "metadata": {},
   "outputs": [
    {
     "name": "stdout",
     "output_type": "stream",
     "text": [
      "*args\n",
      "1\n",
      "2\n",
      "3\n",
      "**kwargs\n",
      "key:alpha, value:1\n",
      "key:beta, value:2\n",
      "key:gamma, value:3\n"
     ]
    }
   ],
   "source": [
    "# First, let's create a tuple and dictionary\n",
    "tuple_ = (1,2,3)\n",
    "dict_ = {'alpha':1, 'beta':2, 'gamma':3}\n",
    "\n",
    "# Call the function\n",
    "argfunc(*tuple_, **dict_)"
   ]
  },
  {
   "cell_type": "markdown",
   "metadata": {},
   "source": [
    "## Lambda and common uses(map, filter, reduce)"
   ]
  },
  {
   "cell_type": "code",
   "execution_count": 19,
   "metadata": {},
   "outputs": [
    {
     "data": {
      "text/plain": [
       "9"
      ]
     },
     "execution_count": 19,
     "metadata": {},
     "output_type": "execute_result"
    }
   ],
   "source": [
    "fn = lambda x: x**2\n",
    "fn(3)"
   ]
  },
  {
   "cell_type": "code",
   "execution_count": 20,
   "metadata": {},
   "outputs": [
    {
     "data": {
      "text/plain": [
       "9"
      ]
     },
     "execution_count": 20,
     "metadata": {},
     "output_type": "execute_result"
    }
   ],
   "source": [
    "(lambda x: x**2)(3)"
   ]
  },
  {
   "cell_type": "code",
   "execution_count": 21,
   "metadata": {},
   "outputs": [
    {
     "data": {
      "text/plain": [
       "[0, 2, 4, 6, 8]"
      ]
     },
     "execution_count": 21,
     "metadata": {},
     "output_type": "execute_result"
    }
   ],
   "source": [
    "(lambda x: [x*_ for _ in range(5)])(2)"
   ]
  },
  {
   "cell_type": "code",
   "execution_count": 22,
   "metadata": {},
   "outputs": [
    {
     "data": {
      "text/plain": [
       "[0, 2, 4, 6, 8]"
      ]
     },
     "execution_count": 22,
     "metadata": {},
     "output_type": "execute_result"
    }
   ],
   "source": [
    "# The above expression in a normal way\n",
    "def x(a):\n",
    "    return [a*_ for _ in range(5)]\n",
    "\n",
    "x(2)"
   ]
  },
  {
   "cell_type": "code",
   "execution_count": 24,
   "metadata": {},
   "outputs": [
    {
     "data": {
      "text/plain": [
       "0"
      ]
     },
     "execution_count": 24,
     "metadata": {},
     "output_type": "execute_result"
    }
   ],
   "source": [
    "# A RELU function. Basically, return positive values, zerorize\n",
    "# negative values\n",
    "(lambda x: x if x>0 else 0)(-1)"
   ]
  },
  {
   "cell_type": "code",
   "execution_count": 33,
   "metadata": {},
   "outputs": [
    {
     "data": {
      "text/plain": [
       "[1, 4, 9, 16, 25, 36, 49, 64, 81]"
      ]
     },
     "execution_count": 33,
     "metadata": {},
     "output_type": "execute_result"
    }
   ],
   "source": [
    "list_ = [x for x in range(1,10)]\n",
    "\n",
    "#map function\n",
    "squared = map(lambda x: x**2, list_)\n",
    "list(squared)"
   ]
  },
  {
   "cell_type": "code",
   "execution_count": 34,
   "metadata": {},
   "outputs": [
    {
     "data": {
      "text/plain": [
       "[2, 4, 6, 8]"
      ]
     },
     "execution_count": 34,
     "metadata": {},
     "output_type": "execute_result"
    }
   ],
   "source": [
    "#filter function\n",
    "even = filter(lambda x: x%2==0, list_)\n",
    "list(even)"
   ]
  },
  {
   "cell_type": "code",
   "execution_count": 35,
   "metadata": {},
   "outputs": [
    {
     "data": {
      "text/plain": [
       "362880"
      ]
     },
     "execution_count": 35,
     "metadata": {},
     "output_type": "execute_result"
    }
   ],
   "source": [
    "#reduce function\n",
    "from functools import reduce\n",
    "product = reduce(lambda x1,x2: x1*x2, list_)\n",
    "product"
   ]
  },
  {
   "cell_type": "code",
   "execution_count": 36,
   "metadata": {},
   "outputs": [
    {
     "data": {
      "text/plain": [
       "[('dave', 'B', 10), ('jane', 'B', 12), ('john', 'A', 15)]"
      ]
     },
     "execution_count": 36,
     "metadata": {},
     "output_type": "execute_result"
    }
   ],
   "source": [
    "#sorted function\n",
    "student_tuples = [\n",
    "        ('john', 'A', 15),\n",
    "        ('jane', 'B', 12),\n",
    "        ('dave', 'B', 10)]\n",
    "\n",
    "#sort the list according to the third element in the tuple\n",
    "sorted_students=sorted(student_tuples, key=lambda x: x[2])\n",
    "sorted_students"
   ]
  },
  {
   "cell_type": "code",
   "execution_count": null,
   "metadata": {
    "collapsed": true
   },
   "outputs": [],
   "source": []
  }
 ],
 "metadata": {
  "kernelspec": {
   "display_name": "Python 3",
   "language": "python",
   "name": "python3"
  },
  "language_info": {
   "codemirror_mode": {
    "name": "ipython",
    "version": 3
   },
   "file_extension": ".py",
   "mimetype": "text/x-python",
   "name": "python",
   "nbconvert_exporter": "python",
   "pygments_lexer": "ipython3",
   "version": "3.6.3"
  }
 },
 "nbformat": 4,
 "nbformat_minor": 2
}
